{
 "cells": [
  {
   "cell_type": "code",
   "execution_count": 1,
   "outputs": [
    {
     "name": "stdout",
     "output_type": "stream",
     "text": [
      "Requirement already satisfied: simpy in c:\\users\\ismae\\appdata\\local\\programs\\python\\python310\\lib\\site-packages (4.0.1)\n"
     ]
    },
    {
     "name": "stderr",
     "output_type": "stream",
     "text": [
      "WARNING: You are using pip version 21.2.4; however, version 22.2 is available.\n",
      "You should consider upgrading via the 'C:\\Users\\ismae\\AppData\\Local\\Programs\\Python\\Python310\\python.exe -m pip install --upgrade pip' command.\n"
     ]
    }
   ],
   "source": [
    "! pip install simpy"
   ],
   "metadata": {
    "collapsed": false,
    "pycharm": {
     "name": "#%%\n"
    }
   }
  },
  {
   "cell_type": "code",
   "execution_count": 2,
   "outputs": [
    {
     "name": "stdout",
     "output_type": "stream",
     "text": [
      "Librerias importadas\n"
     ]
    }
   ],
   "source": [
    "#Importacion de librerias necesarias\n",
    "import collections\n",
    "import random\n",
    "import simpy\n",
    "import matplotlib.pyplot as plt\n",
    "import numpy as np\n",
    "print('Librerias importadas')"
   ],
   "metadata": {
    "collapsed": false,
    "pycharm": {
     "name": "#%%\n"
    }
   }
  },
  {
   "cell_type": "code",
   "execution_count": 4,
   "outputs": [],
   "source": [
    "#DECLARACION DE VARIABLES\n",
    "CARRILES_REVISION=3\n",
    "TIEPO_LLEGADA=3\n",
    "MEDIA=20 #MIN"
   ],
   "metadata": {
    "collapsed": false,
    "pycharm": {
     "name": "#%%\n"
    }
   }
  },
  {
   "cell_type": "code",
   "execution_count": 5,
   "outputs": [],
   "source": [
    "class CuencaAire():\n",
    "  def __init__(self,env,recurso):\n",
    "    self.env=env\n",
    "     # self.carriles=carriles\n",
    "      #self.tipo_vehiculo=tipo_vehiculo\n",
    "      #self.carriles = simpy.Resource(env, capacity=3) # Generamos 3 carriles para la visita\n",
    "    self.recurso=recurso\n",
    "\n",
    "    def revision(self,env, recurso):\n",
    "          print('Validando si existen recursos para la revision')\n",
    "          with recurso.request() as peticion: # Genero un evento de requerimiento\n",
    "            yield peticion # Obtengo el recurso\n",
    "            imprimir_datos_recurso(recurso) # Imprimo los datos del recuros obtenido\n",
    "            yield env.timeout(1) # Hago uso del recuros por un tiempo de un minito\n",
    "            recurso.release(peticion) #Libero el recurso despues de su uso.\n",
    "            print('Se libera el recurso usuario')\n",
    "\n",
    "    def imprimir_datos_recurso(rec):\n",
    "        print(f'{rec.count} de {rec.capacity}')\n",
    "        print(f' Usuarios que hacen uso: {rec.users}')\n",
    "        print(f' Evento de colas: {rec.queue}')\n",
    "\n",
    "    def llega_vehiculo(self,env,nombre):\n",
    "        print('Llega vehiculo: %s a la hora %.2f.' % (nombre, env.now))\n",
    "        yield env.process(self.estacionarse(nombre))\n",
    "\n",
    "    def estacionarse(self,env,nombre):\n",
    "        #tiempo de estacionamiento\n",
    "          yield self.env.timeout(random.randint(3,5))\n",
    "          print('El vehiculo de demoro en estacionarse un tiempo de  {%d%%}  %s ' % (random.randint(3,5), nombre))\n",
    "          yield env.process(self.obtener_turno(nombre))\n",
    "\n",
    "    def obtener_turno(self,env,nombre):\n",
    "        yield self.env.timeout(random.randint(3,5))\n",
    "      # print('El ehiculo [%s] obtubo un turno en un tiempo de  %.2f.' %  % (nombre,random.randint(1,3))\n",
    "        yield env.process(self.Pagar_matricula(nombre))\n",
    "\n",
    "    def Pagar_matricula(self,en,nombre):\n",
    "        yield self.env.timeout(random.randint(5,10))\n",
    "      # print('Se paga el turno para el vehiculo [%s]  en un tiempo de  %.2f.' %  % (nombre,random.randint(5,10))\n",
    "\n",
    "    def imprimir():\n",
    "     print('funca')\n",
    "\n",
    "\n",
    "\n"
   ],
   "metadata": {
    "collapsed": false,
    "pycharm": {
     "name": "#%%\n"
    }
   }
  },
  {
   "cell_type": "code",
   "execution_count": null,
   "outputs": [],
   "source": [
    "env = simpy.Environment()\n",
    "res = simpy.Resource(env, capacity=3)\n",
    "#usuario = env.process(recurso_usuario(env, res)) #\n",
    "env.process(llega_vehiculo(env,'carro'))\n",
    "env.run()"
   ],
   "metadata": {
    "collapsed": false,
    "pycharm": {
     "name": "#%%\n"
    }
   }
  }
 ],
 "metadata": {
  "kernelspec": {
   "display_name": "Python 3",
   "language": "python",
   "name": "python3"
  },
  "language_info": {
   "codemirror_mode": {
    "name": "ipython",
    "version": 2
   },
   "file_extension": ".py",
   "mimetype": "text/x-python",
   "name": "python",
   "nbconvert_exporter": "python",
   "pygments_lexer": "ipython2",
   "version": "2.7.6"
  }
 },
 "nbformat": 4,
 "nbformat_minor": 0
}