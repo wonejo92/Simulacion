{
 "cells": [
  {
   "cell_type": "code",
   "execution_count": 1,
   "outputs": [
    {
     "name": "stdout",
     "output_type": "stream",
     "text": [
      "Requirement already satisfied: simpy in c:\\users\\ismae\\appdata\\local\\programs\\python\\python310\\lib\\site-packages (4.0.1)\n"
     ]
    },
    {
     "name": "stderr",
     "output_type": "stream",
     "text": [
      "WARNING: You are using pip version 21.2.4; however, version 22.2 is available.\n",
      "You should consider upgrading via the 'C:\\Users\\ismae\\AppData\\Local\\Programs\\Python\\Python310\\python.exe -m pip install --upgrade pip' command.\n"
     ]
    }
   ],
   "source": [
    "! pip install simpy"
   ],
   "metadata": {
    "collapsed": false,
    "pycharm": {
     "name": "#%%\n"
    }
   }
  },
  {
   "cell_type": "code",
   "execution_count": 2,
   "outputs": [
    {
     "name": "stdout",
     "output_type": "stream",
     "text": [
      "Librerias importadas\n"
     ]
    }
   ],
   "source": [
    "#Importacion de librerias necesarias\n",
    "import collections\n",
    "import random\n",
    "import simpy\n",
    "import matplotlib.pyplot as plt\n",
    "import numpy as np\n",
    "print('Librerias importadas')"
   ],
   "metadata": {
    "collapsed": false,
    "pycharm": {
     "name": "#%%\n"
    }
   }
  },
  {
   "cell_type": "code",
   "execution_count": 35,
   "outputs": [],
   "source": [
    "#DECLARACION DE VARIABLES\n",
    "CARRILES_REVISION=3\n",
    "TIEPO_LLEGADA=3\n",
    "MEDIA=20 #MIN\n",
    "tipoVehiculo= [\"pesados\", \"livianos\"]"
   ],
   "metadata": {
    "collapsed": false,
    "pycharm": {
     "name": "#%%\n"
    }
   }
  },
  {
   "cell_type": "code",
   "execution_count": 80,
   "outputs": [
    {
     "name": "stdout",
     "output_type": "stream",
     "text": [
      "Llega vehiculo: Vehiculo-1  de tipo :pesados a la hora 0.00.\n",
      "Llega vehiculo: Vehiculo-2  de tipo :livianos a la hora 0.00.\n",
      "Llega vehiculo: Vehiculo-3  de tipo :pesados a la hora 0.00.\n",
      "Llega vehiculo: Vehiculo-4  de tipo :livianos a la hora 0.00.\n",
      "Llega vehiculo: Vehiculo-5  de tipo :livianos a la hora 0.00.\n",
      "El vehiculo: Vehiculo-3 de demoro en estacionarse un tiempo de: 4 \n",
      "El vehiculo: Vehiculo-5 de demoro en estacionarse un tiempo de: 3 \n",
      "El vehiculo: Vehiculo-1 de demoro en estacionarse un tiempo de: 4 \n",
      "El vehiculo: Vehiculo-2 de demoro en estacionarse un tiempo de: 3 \n",
      "El vehiculo: Vehiculo-4 de demoro en estacionarse un tiempo de: 3 \n",
      "El vehiculo: Vehiculo-5 obtubo un turno en un tiempo de: 2 \n",
      "El vehiculo: Vehiculo-3 obtubo un turno en un tiempo de: 2 \n",
      "El vehiculo: Vehiculo-1 obtubo un turno en un tiempo de: 3 \n",
      "El vehiculo: Vehiculo-2 obtubo un turno en un tiempo de: 1 \n",
      "El vehiculo: Vehiculo-4 obtubo un turno en un tiempo de: 3 \n",
      "Se paga el turno para el vehiculo: Vehiculo-5 en un tiempo de: 10 \n",
      "Se paga el turno para el vehiculo: Vehiculo-4 en un tiempo de: 10 \n",
      "Se paga el turno para el vehiculo: Vehiculo-1 en un tiempo de: 9 \n",
      "Se paga el turno para el vehiculo: Vehiculo-3 en un tiempo de: 9 \n",
      "Se paga el turno para el vehiculo: Vehiculo-2 en un tiempo de: 5 \n"
     ]
    }
   ],
   "source": [
    "\n",
    "# Creamos una clase que permita modelar mi escenario\n",
    "class Carros(object):\n",
    "\n",
    "    def __init__(self, environment,recurso,carriles):\n",
    "        # Guardamos como variable el entorno de ejecucion\n",
    "        self.env=environment\n",
    "        # Creamos el recurso que representa las maquinas\n",
    "        #self.maquinas = simpy.Resource(environment, num_maquinas)\n",
    "        # Variable para el tiempo de lavado\n",
    "        #self.tiempo_lavado = tiempo_lavado\n",
    "        self.recurso=recurso\n",
    "        self.carrilesPesados = simpy.Resource(env, CARRILES_REVISION)\n",
    "        self.carrilesNormales= simpy.Resource(env, CARRILES_REVISION)\n",
    "\n",
    "    def lavar_vehiculo(self, vehiculo):\n",
    "        print('se lava el vehiculo')\n",
    "\n",
    "    def llega_vehiculo(self,env,nombre:str,tipo:str):\n",
    "        #print(tipo)\n",
    "        print('Llega vehiculo: %s  de tipo :%s a la hora %.2f.' % (nombre,tipo, env.now))\n",
    "        yield env.process(self.estacionarse(env,nombre,tipo))\n",
    "\n",
    "    def estacionarse(self,env,nombre,tipo):\n",
    "        #tiempo de estacionamiento\n",
    "          yield self.env.timeout(random.randint(3,5))\n",
    "          print('El vehiculo: %s de demoro en estacionarse un tiempo de: %s ' % (nombre, random.randint(3,5)))\n",
    "          yield env.process(self.obtener_turno(env,nombre,tipo))\n",
    "\n",
    "    def obtener_turno(self,env,nombre,tipo):\n",
    "        yield self.env.timeout(random.randint(3,5))\n",
    "        print('El vehiculo: %s obtubo un turno en un tiempo de: %s ' % (nombre, random.randint(1,3)))\n",
    "        yield env.process(self.Pagar_matricula(env,nombre,tipo))\n",
    "\n",
    "    def Pagar_matricula(self,en,nombre,tipo):\n",
    "        yield self.env.timeout(random.randint(5,10))\n",
    "        print('Se paga el turno para el vehiculo: %s en un tiempo de: %s ' % (nombre, random.randint(5,10)))\n",
    "        self.revision(env,nombre,self.recurso,tipo,emov)\n",
    "\n",
    "\n",
    "    def revision(self,env,nombre, recurso,tipo,emov):\n",
    "        print('Validando si existen recursos para la revision')\n",
    "        print('El tipo de vehiculo es ',tipo)\n",
    "        if(tipo=='livianos'):\n",
    "            print('es liviano*******')\n",
    "            with self.carrilesNormales.request() as livianos:\n",
    "                yield livianos\n",
    "                print('Entra vehiculo a lavarse: %s a la hora %.2f.' % (nombre, env.now))\n",
    "\n",
    "\n",
    "\n",
    "\n",
    "    def imprimir_datos_recurso(self,rec):\n",
    "        print(f'{rec.count} de {rec.capacity}')\n",
    "        print(f' Usuarios que hacen uso: {rec.users}')\n",
    "        print(f' Evento de colas: {rec.queue}')\n",
    "\n",
    "\n",
    "\n",
    "\n",
    "\n",
    "\n",
    "env = simpy.Environment()\n",
    "res = simpy.Resource(env, capacity=3)\n",
    "emov=Carros(env, res,CARRILES_REVISION)\n",
    "#usuario = env.process(recurso_usuario(env, res)) #\n",
    "for i in range(5):\n",
    "    tipo=random.choice(tipoVehiculo)\n",
    "    env.process(emov.llega_vehiculo(env, 'Vehiculo-%d' % (i + 1), tipo))\n",
    "    env.timeout(3)\n",
    "\n",
    "#proceso = [env.process(lavanderia.revision(env, res)), env.process(lavanderia.revision(env, res)), env.process(lavanderia.revision(env, res))]\n",
    "env.run()\n"
   ],
   "metadata": {
    "collapsed": false,
    "pycharm": {
     "name": "#%%\n"
    }
   }
  }
 ],
 "metadata": {
  "kernelspec": {
   "display_name": "Python 3",
   "language": "python",
   "name": "python3"
  },
  "language_info": {
   "codemirror_mode": {
    "name": "ipython",
    "version": 2
   },
   "file_extension": ".py",
   "mimetype": "text/x-python",
   "name": "python",
   "nbconvert_exporter": "python",
   "pygments_lexer": "ipython2",
   "version": "2.7.6"
  }
 },
 "nbformat": 4,
 "nbformat_minor": 0
}