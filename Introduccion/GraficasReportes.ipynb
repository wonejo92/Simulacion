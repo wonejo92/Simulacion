{
 "cells": [
  {
   "cell_type": "markdown",
   "source": [
    "Tutorial de Matplot para graficas y de Reportes pagermill\n",
    "A continuación se detalla un tutorial de como utilizar matplotlib y pagermill para la generacion de graficas y reportes respectivamente, este tutorial se basa en cuatro librerias:\n",
    "Matplotlib\n",
    "Numpy\n",
    "Pandas\n",
    "Plotly\n",
    "Al finalizar el estudiante estará en la capacidad de generar graficas y enviar parametros para la realización de reportes utilizando\n",
    "Notebook - CoceLab. Además permite la lectura de archivos .csv y de diferentes tipos de graficos para su utilización."
   ],
   "metadata": {
    "collapsed": false,
    "pycharm": {
     "name": "#%% md\n"
    }
   }
  },
  {
   "cell_type": "code",
   "execution_count": 1,
   "metadata": {
    "collapsed": true,
    "pycharm": {
     "name": "#%%\n"
    }
   },
   "outputs": [],
   "source": [
    "#importar las librerias necesarias\n",
    "import matplotlib.pyplot as plt\n",
    "import numpy as np\n",
    "import pandas as pd\n",
    "import io\n",
    "#from google.colab import files\n",
    "import plotly.graph_objects as go"
   ]
  },
  {
   "cell_type": "markdown",
   "source": [],
   "metadata": {
    "collapsed": false,
    "pycharm": {
     "name": "#%% md\n"
    }
   }
  },
  {
   "cell_type": "code",
   "execution_count": null,
   "outputs": [],
   "source": [
    "Introducción\n",
    "Para generar graficas estaticas se utiliza la libreria Matplot esta permite construir diferentes tipos de graficas en base a los datos.\n",
    "\n",
    "Construccion de un grafico basico\n",
    "Para la contrucción de este primer grafico simplemente utilizaremos dos arreglos."
   ],
   "metadata": {
    "collapsed": false,
    "pycharm": {
     "name": "#%%\n"
    }
   }
  },
  {
   "cell_type": "code",
   "execution_count": 4,
   "outputs": [
    {
     "data": {
      "text/plain": "[<matplotlib.lines.Line2D at 0x262848b8490>]"
     },
     "execution_count": 4,
     "metadata": {},
     "output_type": "execute_result"
    },
    {
     "data": {
      "text/plain": "<Figure size 250x500 with 1 Axes>",
      "image/png": "[encoded data removed]"
     },
     "metadata": {
      "needs_background": "light"
     },
     "output_type": "display_data"
    }
   ],
   "source": [
    "# Arreglo de valores X y Y\n",
    "x = [0,1,2,3,4]\n",
    "y = [0,2,4,6,8]\n",
    "\n",
    "# Asignamos un tamaño y el numero de pixeles por pulgada.\n",
    "plt.figure(figsize=(1,2), dpi=250)\n",
    "\n",
    "# Graficos en formato punto\n",
    "plt.plot(x,y,'ro')"
   ],
   "metadata": {
    "collapsed": false,
    "pycharm": {
     "name": "#%%\n"
    }
   }
  }
 ],
 "metadata": {
  "kernelspec": {
   "display_name": "Python 3",
   "language": "python",
   "name": "python3"
  },
  "language_info": {
   "codemirror_mode": {
    "name": "ipython",
    "version": 2
   },
   "file_extension": ".py",
   "mimetype": "text/x-python",
   "name": "python",
   "nbconvert_exporter": "python",
   "pygments_lexer": "ipython2",
   "version": "2.7.6"
  }
 },
 "nbformat": 4,
 "nbformat_minor": 0
}