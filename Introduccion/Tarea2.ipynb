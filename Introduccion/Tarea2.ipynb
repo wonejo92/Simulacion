{
 "cells": [
  {
   "cell_type": "code",
   "execution_count": 11,
   "outputs": [],
   "source": [
    "#importar las librerias necesarias\n",
    "import matplotlib.pyplot as plt\n",
    "import numpy as np\n",
    "import pandas as pd\n",
    "import io\n",
    "import plotly.graph_objects as go\n",
    "from collections import Counter"
   ],
   "metadata": {
    "collapsed": false,
    "pycharm": {
     "name": "#%%\n"
    }
   }
  },
  {
   "cell_type": "code",
   "execution_count": 61,
   "metadata": {
    "collapsed": true,
    "pycharm": {
     "name": "#%%\n"
    }
   },
   "outputs": [
    {
     "data": {
      "text/plain": "   Unnamed: 0      ID               Name  Age  \\\n0           0  158023           L. Messi   31   \n1           1   20801  Cristiano Ronaldo   33   \n2           2  190871          Neymar Jr   26   \n3           3  193080             De Gea   27   \n4           4  192985       K. De Bruyne   27   \n5           5  183277          E. Hazard   27   \n6           6  177003          L. Modrić   32   \n7           7  176580          L. Suárez   31   \n8           8  155862       Sergio Ramos   32   \n9           9  200389           J. Oblak   25   \n\n                                            Photo Nationality  \\\n0  https://cdn.sofifa.org/players/4/19/158023.png   Argentina   \n1   https://cdn.sofifa.org/players/4/19/20801.png    Portugal   \n2  https://cdn.sofifa.org/players/4/19/190871.png      Brazil   \n3  https://cdn.sofifa.org/players/4/19/193080.png       Spain   \n4  https://cdn.sofifa.org/players/4/19/192985.png     Belgium   \n5  https://cdn.sofifa.org/players/4/19/183277.png     Belgium   \n6  https://cdn.sofifa.org/players/4/19/177003.png     Croatia   \n7  https://cdn.sofifa.org/players/4/19/176580.png     Uruguay   \n8  https://cdn.sofifa.org/players/4/19/155862.png       Spain   \n9  https://cdn.sofifa.org/players/4/19/200389.png    Slovenia   \n\n                                  Flag  Overall  Potential  \\\n0  https://cdn.sofifa.org/flags/52.png       94         94   \n1  https://cdn.sofifa.org/flags/38.png       94         94   \n2  https://cdn.sofifa.org/flags/54.png       92         93   \n3  https://cdn.sofifa.org/flags/45.png       91         93   \n4   https://cdn.sofifa.org/flags/7.png       91         92   \n5   https://cdn.sofifa.org/flags/7.png       91         91   \n6  https://cdn.sofifa.org/flags/10.png       91         91   \n7  https://cdn.sofifa.org/flags/60.png       91         91   \n8  https://cdn.sofifa.org/flags/45.png       91         91   \n9  https://cdn.sofifa.org/flags/44.png       90         93   \n\n                  Club  ... Composure Marking StandingTackle  SlidingTackle  \\\n0         FC Barcelona  ...      96.0    33.0           28.0           26.0   \n1             Juventus  ...      95.0    28.0           31.0           23.0   \n2  Paris Saint-Germain  ...      94.0    27.0           24.0           33.0   \n3    Manchester United  ...      68.0    15.0           21.0           13.0   \n4      Manchester City  ...      88.0    68.0           58.0           51.0   \n5              Chelsea  ...      91.0    34.0           27.0           22.0   \n6          Real Madrid  ...      84.0    60.0           76.0           73.0   \n7         FC Barcelona  ...      85.0    62.0           45.0           38.0   \n8          Real Madrid  ...      82.0    87.0           92.0           91.0   \n9      Atlético Madrid  ...      70.0    27.0           12.0           18.0   \n\n  GKDiving  GKHandling  GKKicking  GKPositioning GKReflexes Release Clause  \n0      6.0        11.0       15.0           14.0        8.0        €226.5M  \n1      7.0        11.0       15.0           14.0       11.0        €127.1M  \n2      9.0         9.0       15.0           15.0       11.0        €228.1M  \n3     90.0        85.0       87.0           88.0       94.0        €138.6M  \n4     15.0        13.0        5.0           10.0       13.0        €196.4M  \n5     11.0        12.0        6.0            8.0        8.0        €172.1M  \n6     13.0         9.0        7.0           14.0        9.0        €137.4M  \n7     27.0        25.0       31.0           33.0       37.0          €164M  \n8     11.0         8.0        9.0            7.0       11.0        €104.6M  \n9     86.0        92.0       78.0           88.0       89.0        €144.5M  \n\n[10 rows x 89 columns]",
      "text/html": "<div>\n<style scoped>\n    .dataframe tbody tr th:only-of-type {\n        vertical-align: middle;\n    }\n\n    .dataframe tbody tr th {\n        vertical-align: top;\n    }\n\n    .dataframe thead th {\n        text-align: right;\n    }\n</style>\n<table border=\"1\" class=\"dataframe\">\n  <thead>\n    <tr style=\"text-align: right;\">\n      <th></th>\n      <th>Unnamed: 0</th>\n      <th>ID</th>\n      <th>Name</th>\n      <th>Age</th>\n      <th>Photo</th>\n      <th>Nationality</th>\n      <th>Flag</th>\n      <th>Overall</th>\n      <th>Potential</th>\n      <th>Club</th>\n      <th>...</th>\n      <th>Composure</th>\n      <th>Marking</th>\n      <th>StandingTackle</th>\n      <th>SlidingTackle</th>\n      <th>GKDiving</th>\n      <th>GKHandling</th>\n      <th>GKKicking</th>\n      <th>GKPositioning</th>\n      <th>GKReflexes</th>\n      <th>Release Clause</th>\n    </tr>\n  </thead>\n  <tbody>\n    <tr>\n      <th>0</th>\n      <td>0</td>\n      <td>158023</td>\n      <td>L. Messi</td>\n      <td>31</td>\n      <td>https://cdn.sofifa.org/players/4/19/158023.png</td>\n      <td>Argentina</td>\n      <td>https://cdn.sofifa.org/flags/52.png</td>\n      <td>94</td>\n      <td>94</td>\n      <td>FC Barcelona</td>\n      <td>...</td>\n      <td>96.0</td>\n      <td>33.0</td>\n      <td>28.0</td>\n      <td>26.0</td>\n      <td>6.0</td>\n      <td>11.0</td>\n      <td>15.0</td>\n      <td>14.0</td>\n      <td>8.0</td>\n      <td>€226.5M</td>\n    </tr>\n    <tr>\n      <th>1</th>\n      <td>1</td>\n      <td>20801</td>\n      <td>Cristiano Ronaldo</td>\n      <td>33</td>\n      <td>https://cdn.sofifa.org/players/4/19/20801.png</td>\n      <td>Portugal</td>\n      <td>https://cdn.sofifa.org/flags/38.png</td>\n      <td>94</td>\n      <td>94</td>\n      <td>Juventus</td>\n      <td>...</td>\n      <td>95.0</td>\n      <td>28.0</td>\n      <td>31.0</td>\n      <td>23.0</td>\n      <td>7.0</td>\n      <td>11.0</td>\n      <td>15.0</td>\n      <td>14.0</td>\n      <td>11.0</td>\n      <td>€127.1M</td>\n    </tr>\n    <tr>\n      <th>2</th>\n      <td>2</td>\n      <td>190871</td>\n      <td>Neymar Jr</td>\n      <td>26</td>\n      <td>https://cdn.sofifa.org/players/4/19/190871.png</td>\n      <td>Brazil</td>\n      <td>https://cdn.sofifa.org/flags/54.png</td>\n      <td>92</td>\n      <td>93</td>\n      <td>Paris Saint-Germain</td>\n      <td>...</td>\n      <td>94.0</td>\n      <td>27.0</td>\n      <td>24.0</td>\n      <td>33.0</td>\n      <td>9.0</td>\n      <td>9.0</td>\n      <td>15.0</td>\n      <td>15.0</td>\n      <td>11.0</td>\n      <td>€228.1M</td>\n    </tr>\n    <tr>\n      <th>3</th>\n      <td>3</td>\n      <td>193080</td>\n      <td>De Gea</td>\n      <td>27</td>\n      <td>https://cdn.sofifa.org/players/4/19/193080.png</td>\n      <td>Spain</td>\n      <td>https://cdn.sofifa.org/flags/45.png</td>\n      <td>91</td>\n      <td>93</td>\n      <td>Manchester United</td>\n      <td>...</td>\n      <td>68.0</td>\n      <td>15.0</td>\n      <td>21.0</td>\n      <td>13.0</td>\n      <td>90.0</td>\n      <td>85.0</td>\n      <td>87.0</td>\n      <td>88.0</td>\n      <td>94.0</td>\n      <td>€138.6M</td>\n    </tr>\n    <tr>\n      <th>4</th>\n      <td>4</td>\n      <td>192985</td>\n      <td>K. De Bruyne</td>\n      <td>27</td>\n      <td>https://cdn.sofifa.org/players/4/19/192985.png</td>\n      <td>Belgium</td>\n      <td>https://cdn.sofifa.org/flags/7.png</td>\n      <td>91</td>\n      <td>92</td>\n      <td>Manchester City</td>\n      <td>...</td>\n      <td>88.0</td>\n      <td>68.0</td>\n      <td>58.0</td>\n      <td>51.0</td>\n      <td>15.0</td>\n      <td>13.0</td>\n      <td>5.0</td>\n      <td>10.0</td>\n      <td>13.0</td>\n      <td>€196.4M</td>\n    </tr>\n    <tr>\n      <th>5</th>\n      <td>5</td>\n      <td>183277</td>\n      <td>E. Hazard</td>\n      <td>27</td>\n      <td>https://cdn.sofifa.org/players/4/19/183277.png</td>\n      <td>Belgium</td>\n      <td>https://cdn.sofifa.org/flags/7.png</td>\n      <td>91</td>\n      <td>91</td>\n      <td>Chelsea</td>\n      <td>...</td>\n      <td>91.0</td>\n      <td>34.0</td>\n      <td>27.0</td>\n      <td>22.0</td>\n      <td>11.0</td>\n      <td>12.0</td>\n      <td>6.0</td>\n      <td>8.0</td>\n      <td>8.0</td>\n      <td>€172.1M</td>\n    </tr>\n    <tr>\n      <th>6</th>\n      <td>6</td>\n      <td>177003</td>\n      <td>L. Modrić</td>\n      <td>32</td>\n      <td>https://cdn.sofifa.org/players/4/19/177003.png</td>\n      <td>Croatia</td>\n      <td>https://cdn.sofifa.org/flags/10.png</td>\n      <td>91</td>\n      <td>91</td>\n      <td>Real Madrid</td>\n      <td>...</td>\n      <td>84.0</td>\n      <td>60.0</td>\n      <td>76.0</td>\n      <td>73.0</td>\n      <td>13.0</td>\n      <td>9.0</td>\n      <td>7.0</td>\n      <td>14.0</td>\n      <td>9.0</td>\n      <td>€137.4M</td>\n    </tr>\n    <tr>\n      <th>7</th>\n      <td>7</td>\n      <td>176580</td>\n      <td>L. Suárez</td>\n      <td>31</td>\n      <td>https://cdn.sofifa.org/players/4/19/176580.png</td>\n      <td>Uruguay</td>\n      <td>https://cdn.sofifa.org/flags/60.png</td>\n      <td>91</td>\n      <td>91</td>\n      <td>FC Barcelona</td>\n      <td>...</td>\n      <td>85.0</td>\n      <td>62.0</td>\n      <td>45.0</td>\n      <td>38.0</td>\n      <td>27.0</td>\n      <td>25.0</td>\n      <td>31.0</td>\n      <td>33.0</td>\n      <td>37.0</td>\n      <td>€164M</td>\n    </tr>\n    <tr>\n      <th>8</th>\n      <td>8</td>\n      <td>155862</td>\n      <td>Sergio Ramos</td>\n      <td>32</td>\n      <td>https://cdn.sofifa.org/players/4/19/155862.png</td>\n      <td>Spain</td>\n      <td>https://cdn.sofifa.org/flags/45.png</td>\n      <td>91</td>\n      <td>91</td>\n      <td>Real Madrid</td>\n      <td>...</td>\n      <td>82.0</td>\n      <td>87.0</td>\n      <td>92.0</td>\n      <td>91.0</td>\n      <td>11.0</td>\n      <td>8.0</td>\n      <td>9.0</td>\n      <td>7.0</td>\n      <td>11.0</td>\n      <td>€104.6M</td>\n    </tr>\n    <tr>\n      <th>9</th>\n      <td>9</td>\n      <td>200389</td>\n      <td>J. Oblak</td>\n      <td>25</td>\n      <td>https://cdn.sofifa.org/players/4/19/200389.png</td>\n      <td>Slovenia</td>\n      <td>https://cdn.sofifa.org/flags/44.png</td>\n      <td>90</td>\n      <td>93</td>\n      <td>Atlético Madrid</td>\n      <td>...</td>\n      <td>70.0</td>\n      <td>27.0</td>\n      <td>12.0</td>\n      <td>18.0</td>\n      <td>86.0</td>\n      <td>92.0</td>\n      <td>78.0</td>\n      <td>88.0</td>\n      <td>89.0</td>\n      <td>€144.5M</td>\n    </tr>\n  </tbody>\n</table>\n<p>10 rows × 89 columns</p>\n</div>"
     },
     "execution_count": 61,
     "metadata": {},
     "output_type": "execute_result"
    }
   ],
   "source": [
    "df = pd.read_csv('fifa_datos.csv')\n",
    "df.head(10)"
   ]
  },
  {
   "cell_type": "markdown",
   "source": [
    "## 1 Con los datos de Fifa, organizar a los jugadores de acuerdo al peso en las siguientes escalas y generar un cuadro tipo PIE\n",
    "\n",
    "Debajo 125 Lbs. A\n",
    "125-150  B\n",
    "150-175  C\n",
    "175 o superior  D"
   ],
   "metadata": {
    "collapsed": false,
    "pycharm": {
     "name": "#%% md\n"
    }
   }
  },
  {
   "cell_type": "code",
   "execution_count": 94,
   "outputs": [
    {
     "name": "stdout",
     "output_type": "stream",
     "text": [
      "[123.0, 123.0, 121.0, 123.0, 115.0, 121.0, 123.0, 117.0, 123.0, 123.0, 121.0, 121.0, 121.0, 121.0, 123.0, 123.0, 110.0, 121.0, 119.0, 123.0, 123.0, 121.0, 123.0, 123.0, 121.0, 123.0, 117.0, 121.0, 119.0, 117.0, 123.0, 117.0, 123.0, 123.0, 123.0, 110.0, 119.0, 117.0, 119.0, 117.0, 123.0]\n"
     ]
    }
   ],
   "source": [
    "pesos=df['Weight'].str.replace(\"lbs\",\"\",regex=True)\n",
    "pesos=pd.to_numeric(pesos, errors='coerce')\n",
    "\n",
    "A=[]\n",
    "B=[]\n",
    "C=[]\n",
    "D=[]\n",
    "for i in pesos:\n",
    "    if i < 125: #Valores menores a 125\n",
    "        A.append(i)\n",
    "    elif i > 124  and i < 151 :\n",
    "        B.append(i)\n",
    "    elif i > 149 and i < 176:\n",
    "        C.append(i)\n",
    "    elif i > 174 :\n",
    "        D.append(i)\n",
    "#print(A)\n",
    "print(A)\n"
   ],
   "metadata": {
    "collapsed": false,
    "pycharm": {
     "name": "#%%\n"
    }
   }
  },
  {
   "cell_type": "code",
   "execution_count": 95,
   "outputs": [
    {
     "name": "stdout",
     "output_type": "stream",
     "text": [
      "41\n"
     ]
    }
   ],
   "source": [
    "print(len(A))\n",
    "PA=len(A)"
   ],
   "metadata": {
    "collapsed": false,
    "pycharm": {
     "name": "#%%\n"
    }
   }
  },
  {
   "cell_type": "code",
   "execution_count": 104,
   "outputs": [
    {
     "data": {
      "text/plain": "<Figure size 432x288 with 1 Axes>",
      "image/png": "[encoded data removed]"
     },
     "metadata": {},
     "output_type": "display_data"
    }
   ],
   "source": [
    "import matplotlib.pyplot as plt\n",
    "\n",
    "valores = [len(A),len(B),len(C),len(D)]\n",
    "nombres = [\"Menor a 125\",\"125 - 150\",\"150 - 175\",\"Mayor a 175\"]\n",
    "desfase = (0, 0, 0, 0.1)\n",
    "plt.pie(valores, labels=nombres, autopct=\"%0.1f %%\", explode=desfase)\n",
    "plt.axis(\"equal\")\n",
    "plt.title('Jugadores segun su Peso')\n",
    "plt.show()"
   ],
   "metadata": {
    "collapsed": false,
    "pycharm": {
     "name": "#%%\n"
    }
   }
  },
  {
   "cell_type": "markdown",
   "source": [],
   "metadata": {
    "collapsed": false,
    "pycharm": {
     "name": "#%% md\n"
    }
   }
  },
  {
   "cell_type": "markdown",
   "source": [
    "## 2 Generar un grafico de barras (histograma) de acuerdo a su habilidad (Overall) en base a los siguientes segmentos contando el número de jugadores\n",
    "\n",
    "* 40\n",
    "* 50\n",
    "* 60\n",
    "* 70\n",
    "* 80\n",
    "* 90\n"
   ],
   "metadata": {
    "collapsed": false,
    "pycharm": {
     "name": "#%% md\n"
    }
   }
  },
  {
   "cell_type": "code",
   "execution_count": 46,
   "outputs": [
    {
     "name": "stdout",
     "output_type": "stream",
     "text": [
      "Habilidad 40  :  Cantidades 0\n",
      "Habilidad 50  :  Cantidades 103\n",
      "Habilidad 60  :  Cantidades 649\n",
      "Habilidad 70  :  Cantidades 889\n",
      "Habilidad 80  :  Cantidades 143\n",
      "Habilidad 90  :  Cantidades 5\n"
     ]
    },
    {
     "data": {
      "text/plain": "<Figure size 432x288 with 1 Axes>",
      "image/png": "[encoded data removed]"
     },
     "metadata": {
      "needs_background": "light"
     },
     "output_type": "display_data"
    }
   ],
   "source": [
    "#print(df['Overall'])\n",
    "cantidad=Counter(df['Overall'])\n",
    "numeros = [40,50,60,70,80,90]\n",
    "numeroJugadores=[]\n",
    "\n",
    "for i in numeros:\n",
    "    print('Habilidad',i,' : ','Cantidades',cantidad[i])\n",
    "    numeroJugadores.append(cantidad[i])\n",
    "\n",
    "\n",
    "plt.bar(numeros, numeroJugadores, color='green')\n",
    "plt.title(\"Grafica\")\n",
    "plt.xlabel(\"Habilidad\")\n",
    "plt.ylabel(\"Numero de jugadores\")\n",
    "plt.show()\n",
    "\n"
   ],
   "metadata": {
    "collapsed": false,
    "pycharm": {
     "name": "#%%\n"
    }
   }
  },
  {
   "cell_type": "markdown",
   "source": [
    "## 3 Investigar alguna herramienta o software que permita generar reportes con Python utilizando CodeLabs.\n",
    "* DATAPANE\n",
    "Permite realizar reportes de una manera rapida y facil permitiendo la generacion de pestañas, desplegables y de stamnera manerar generar reportes interactivos en la web. De cierta manera Datapane es basado en Reportlab.\n",
    "* Instalacion\n",
    "Se lo puede realizar mediante el comando :\n",
    "    pip3 install -U datapane datapane hello-world\n",
    "    conda install -c conda-forge \"datapane>=0.12.0\" datapane hello-world\n",
    "* Ejemplo\n"
   ],
   "metadata": {
    "collapsed": false,
    "pycharm": {
     "name": "#%% md\n"
    }
   }
  },
  {
   "cell_type": "code",
   "execution_count": 106,
   "outputs": [
    {
     "ename": "ImportError",
     "evalue": "pyarrow>=1.0.0 is required for PyArrow backed StringArray.",
     "output_type": "error",
     "traceback": [
      "\u001B[1;31m---------------------------------------------------------------------------\u001B[0m",
      "\u001B[1;31mImportError\u001B[0m                               Traceback (most recent call last)",
      "Input \u001B[1;32mIn [106]\u001B[0m, in \u001B[0;36m<cell line: 14>\u001B[1;34m()\u001B[0m\n\u001B[0;32m      5\u001B[0m source \u001B[38;5;241m=\u001B[39m data\u001B[38;5;241m.\u001B[39mcars()\n\u001B[0;32m      7\u001B[0m plot1 \u001B[38;5;241m=\u001B[39m alt\u001B[38;5;241m.\u001B[39mChart(source)\u001B[38;5;241m.\u001B[39mmark_circle(size\u001B[38;5;241m=\u001B[39m\u001B[38;5;241m60\u001B[39m)\u001B[38;5;241m.\u001B[39mencode(\n\u001B[0;32m      8\u001B[0m   x\u001B[38;5;241m=\u001B[39m\u001B[38;5;124m'\u001B[39m\u001B[38;5;124mHorsepower\u001B[39m\u001B[38;5;124m'\u001B[39m,\n\u001B[0;32m      9\u001B[0m   y\u001B[38;5;241m=\u001B[39m\u001B[38;5;124m'\u001B[39m\u001B[38;5;124mMiles_per_Gallon\u001B[39m\u001B[38;5;124m'\u001B[39m,\n\u001B[0;32m     10\u001B[0m   color\u001B[38;5;241m=\u001B[39m\u001B[38;5;124m'\u001B[39m\u001B[38;5;124mOrigin\u001B[39m\u001B[38;5;124m'\u001B[39m,\n\u001B[0;32m     11\u001B[0m   tooltip\u001B[38;5;241m=\u001B[39m[\u001B[38;5;124m'\u001B[39m\u001B[38;5;124mName\u001B[39m\u001B[38;5;124m'\u001B[39m, \u001B[38;5;124m'\u001B[39m\u001B[38;5;124mOrigin\u001B[39m\u001B[38;5;124m'\u001B[39m, \u001B[38;5;124m'\u001B[39m\u001B[38;5;124mHorsepower\u001B[39m\u001B[38;5;124m'\u001B[39m, \u001B[38;5;124m'\u001B[39m\u001B[38;5;124mMiles_per_Gallon\u001B[39m\u001B[38;5;124m'\u001B[39m]\n\u001B[0;32m     12\u001B[0m )\u001B[38;5;241m.\u001B[39minteractive()\n\u001B[0;32m     14\u001B[0m dp\u001B[38;5;241m.\u001B[39mReport(\n\u001B[0;32m     15\u001B[0m     dp\u001B[38;5;241m.\u001B[39mText(\u001B[38;5;124m\"\u001B[39m\u001B[38;5;124m## Hello world!\u001B[39m\u001B[38;5;124m\"\u001B[39m),\n\u001B[0;32m     16\u001B[0m     dp\u001B[38;5;241m.\u001B[39mPlot(plot1),\n\u001B[1;32m---> 17\u001B[0m     \u001B[43mdp\u001B[49m\u001B[38;5;241;43m.\u001B[39;49m\u001B[43mDataTable\u001B[49m\u001B[43m(\u001B[49m\u001B[43msource\u001B[49m\u001B[43m)\u001B[49m\n\u001B[0;32m     18\u001B[0m )\u001B[38;5;241m.\u001B[39msave(path\u001B[38;5;241m=\u001B[39m\u001B[38;5;124m\"\u001B[39m\u001B[38;5;124mHello_world.html\u001B[39m\u001B[38;5;124m\"\u001B[39m)\n",
      "File \u001B[1;32m~\\AppData\\Local\\Programs\\Python\\Python310\\lib\\site-packages\\datapane\\client\\api\\report\\blocks.py:802\u001B[0m, in \u001B[0;36mDataTable.__init__\u001B[1;34m(self, df, caption, name, label)\u001B[0m\n\u001B[0;32m    788\u001B[0m \u001B[38;5;28;01mdef\u001B[39;00m \u001B[38;5;21m__init__\u001B[39m(\n\u001B[0;32m    789\u001B[0m     \u001B[38;5;28mself\u001B[39m,\n\u001B[0;32m    790\u001B[0m     df: pd\u001B[38;5;241m.\u001B[39mDataFrame,\n\u001B[1;32m   (...)\u001B[0m\n\u001B[0;32m    793\u001B[0m     label: \u001B[38;5;28mstr\u001B[39m \u001B[38;5;241m=\u001B[39m \u001B[38;5;28;01mNone\u001B[39;00m,\n\u001B[0;32m    794\u001B[0m ):\n\u001B[0;32m    795\u001B[0m     \u001B[38;5;124;03m\"\"\"\u001B[39;00m\n\u001B[0;32m    796\u001B[0m \u001B[38;5;124;03m    Args:\u001B[39;00m\n\u001B[0;32m    797\u001B[0m \u001B[38;5;124;03m        df: The pandas dataframe to attach to the report\u001B[39;00m\n\u001B[1;32m   (...)\u001B[0m\n\u001B[0;32m    800\u001B[0m \u001B[38;5;124;03m        label: A label used when displaying the block (optional)\u001B[39;00m\n\u001B[0;32m    801\u001B[0m \u001B[38;5;124;03m    \"\"\"\u001B[39;00m\n\u001B[1;32m--> 802\u001B[0m     fn \u001B[38;5;241m=\u001B[39m \u001B[43msave_df\u001B[49m\u001B[43m(\u001B[49m\u001B[43mdf\u001B[49m\u001B[43m)\u001B[49m\n\u001B[0;32m    803\u001B[0m     (rows, columns) \u001B[38;5;241m=\u001B[39m df\u001B[38;5;241m.\u001B[39mshape\n\u001B[0;32m    804\u001B[0m     \u001B[38;5;66;03m# TODO - support pyarrow schema for local reports\u001B[39;00m\n",
      "File \u001B[1;32m~\\AppData\\Local\\Programs\\Python\\Python310\\lib\\site-packages\\datapane\\client\\api\\dp_object.py:235\u001B[0m, in \u001B[0;36msave_df\u001B[1;34m(df)\u001B[0m\n\u001B[0;32m    231\u001B[0m     \u001B[38;5;28;01mraise\u001B[39;00m DPError(\u001B[38;5;124m\"\u001B[39m\u001B[38;5;124mEmpty DataFrame provided\u001B[39m\u001B[38;5;124m\"\u001B[39m)\n\u001B[0;32m    233\u001B[0m \u001B[38;5;66;03m# process_df called in Arrow.save_file\u001B[39;00m\n\u001B[0;32m    234\u001B[0m \u001B[38;5;66;03m# process_df(df)\u001B[39;00m\n\u001B[1;32m--> 235\u001B[0m \u001B[43mArrowFormat\u001B[49m\u001B[38;5;241;43m.\u001B[39;49m\u001B[43msave_file\u001B[49m\u001B[43m(\u001B[49m\u001B[43mfn\u001B[49m\u001B[38;5;241;43m.\u001B[39;49m\u001B[43mname\u001B[49m\u001B[43m,\u001B[49m\u001B[43m \u001B[49m\u001B[43mdf\u001B[49m\u001B[43m)\u001B[49m\n\u001B[0;32m    236\u001B[0m log\u001B[38;5;241m.\u001B[39mdebug(\u001B[38;5;124mf\u001B[39m\u001B[38;5;124m\"\u001B[39m\u001B[38;5;124mSaved df to \u001B[39m\u001B[38;5;132;01m{\u001B[39;00mfn\u001B[38;5;132;01m}\u001B[39;00m\u001B[38;5;124m (\u001B[39m\u001B[38;5;132;01m{\u001B[39;00mos\u001B[38;5;241m.\u001B[39mpath\u001B[38;5;241m.\u001B[39mgetsize(fn\u001B[38;5;241m.\u001B[39mfile)\u001B[38;5;132;01m}\u001B[39;00m\u001B[38;5;124m bytes)\u001B[39m\u001B[38;5;124m\"\u001B[39m)\n\u001B[0;32m    237\u001B[0m \u001B[38;5;28;01mreturn\u001B[39;00m fn\n",
      "File \u001B[1;32m~\\AppData\\Local\\Programs\\Python\\Python310\\lib\\site-packages\\datapane\\common\\datafiles.py:58\u001B[0m, in \u001B[0;36mArrowFormat.save_file\u001B[1;34m(fn, df)\u001B[0m\n\u001B[0;32m     57\u001B[0m \u001B[38;5;28;01mdef\u001B[39;00m \u001B[38;5;21msave_file\u001B[39m(fn: PathOrFile, df: pd\u001B[38;5;241m.\u001B[39mDataFrame):\n\u001B[1;32m---> 58\u001B[0m     df \u001B[38;5;241m=\u001B[39m \u001B[43mprocess_df\u001B[49m\u001B[43m(\u001B[49m\u001B[43mdf\u001B[49m\u001B[43m)\u001B[49m\n\u001B[0;32m     59\u001B[0m     \u001B[38;5;66;03m# NOTE - can pass expected schema and columns for output df here\u001B[39;00m\n\u001B[0;32m     60\u001B[0m     table: pa\u001B[38;5;241m.\u001B[39mTable \u001B[38;5;241m=\u001B[39m pa\u001B[38;5;241m.\u001B[39mTable\u001B[38;5;241m.\u001B[39mfrom_pandas(df, preserve_index\u001B[38;5;241m=\u001B[39m\u001B[38;5;28;01mFalse\u001B[39;00m)\n",
      "File \u001B[1;32m~\\AppData\\Local\\Programs\\Python\\Python310\\lib\\site-packages\\datapane\\common\\df_processor.py:162\u001B[0m, in \u001B[0;36mprocess_df\u001B[1;34m(df, copy)\u001B[0m\n\u001B[0;32m    159\u001B[0m parse_categories(df)\n\u001B[0;32m    161\u001B[0m \u001B[38;5;66;03m# convert all strings to use the arrow dtype\u001B[39;00m\n\u001B[1;32m--> 162\u001B[0m \u001B[43mstr_to_arrow_str\u001B[49m\u001B[43m(\u001B[49m\u001B[43mdf\u001B[49m\u001B[43m)\u001B[49m\n\u001B[0;32m    164\u001B[0m \u001B[38;5;28;01mreturn\u001B[39;00m df\n",
      "File \u001B[1;32m~\\AppData\\Local\\Programs\\Python\\Python310\\lib\\site-packages\\datapane\\common\\df_processor.py:118\u001B[0m, in \u001B[0;36mstr_to_arrow_str\u001B[1;34m(df)\u001B[0m\n\u001B[0;32m    116\u001B[0m \u001B[38;5;28;01mif\u001B[39;00m PD_VERSION \u001B[38;5;129;01min\u001B[39;00m PD_1_3_GREATER:\n\u001B[0;32m    117\u001B[0m     df_str \u001B[38;5;241m=\u001B[39m df\u001B[38;5;241m.\u001B[39mselect_dtypes(\u001B[38;5;124m\"\u001B[39m\u001B[38;5;124mstring\u001B[39m\u001B[38;5;124m\"\u001B[39m)\n\u001B[1;32m--> 118\u001B[0m     df[df_str\u001B[38;5;241m.\u001B[39mcolumns] \u001B[38;5;241m=\u001B[39m \u001B[43mdf_str\u001B[49m\u001B[38;5;241;43m.\u001B[39;49m\u001B[43mastype\u001B[49m\u001B[43m(\u001B[49m\u001B[38;5;124;43m\"\u001B[39;49m\u001B[38;5;124;43mstring[pyarrow]\u001B[39;49m\u001B[38;5;124;43m\"\u001B[39;49m\u001B[43m)\u001B[49m\n",
      "File \u001B[1;32m~\\AppData\\Local\\Programs\\Python\\Python310\\lib\\site-packages\\pandas\\core\\generic.py:5901\u001B[0m, in \u001B[0;36mNDFrame.astype\u001B[1;34m(self, dtype, copy, errors)\u001B[0m\n\u001B[0;32m   5898\u001B[0m             res_col \u001B[38;5;241m=\u001B[39m col\u001B[38;5;241m.\u001B[39mastype(dtype\u001B[38;5;241m=\u001B[39mcdt, copy\u001B[38;5;241m=\u001B[39mcopy, errors\u001B[38;5;241m=\u001B[39merrors)\n\u001B[0;32m   5899\u001B[0m         results\u001B[38;5;241m.\u001B[39mappend(res_col)\n\u001B[1;32m-> 5901\u001B[0m \u001B[38;5;28;01melif\u001B[39;00m \u001B[43mis_extension_array_dtype\u001B[49m\u001B[43m(\u001B[49m\u001B[43mdtype\u001B[49m\u001B[43m)\u001B[49m \u001B[38;5;129;01mand\u001B[39;00m \u001B[38;5;28mself\u001B[39m\u001B[38;5;241m.\u001B[39mndim \u001B[38;5;241m>\u001B[39m \u001B[38;5;241m1\u001B[39m:\n\u001B[0;32m   5902\u001B[0m     \u001B[38;5;66;03m# GH 18099/22869: columnwise conversion to extension dtype\u001B[39;00m\n\u001B[0;32m   5903\u001B[0m     \u001B[38;5;66;03m# GH 24704: use iloc to handle duplicate column names\u001B[39;00m\n\u001B[0;32m   5904\u001B[0m     \u001B[38;5;66;03m# TODO(EA2D): special case not needed with 2D EAs\u001B[39;00m\n\u001B[0;32m   5905\u001B[0m     results \u001B[38;5;241m=\u001B[39m [\n\u001B[0;32m   5906\u001B[0m         \u001B[38;5;28mself\u001B[39m\u001B[38;5;241m.\u001B[39miloc[:, i]\u001B[38;5;241m.\u001B[39mastype(dtype, copy\u001B[38;5;241m=\u001B[39mcopy)\n\u001B[0;32m   5907\u001B[0m         \u001B[38;5;28;01mfor\u001B[39;00m i \u001B[38;5;129;01min\u001B[39;00m \u001B[38;5;28mrange\u001B[39m(\u001B[38;5;28mlen\u001B[39m(\u001B[38;5;28mself\u001B[39m\u001B[38;5;241m.\u001B[39mcolumns))\n\u001B[0;32m   5908\u001B[0m     ]\n\u001B[0;32m   5910\u001B[0m \u001B[38;5;28;01melse\u001B[39;00m:\n\u001B[0;32m   5911\u001B[0m     \u001B[38;5;66;03m# else, only a single dtype is given\u001B[39;00m\n",
      "File \u001B[1;32m~\\AppData\\Local\\Programs\\Python\\Python310\\lib\\site-packages\\pandas\\core\\dtypes\\common.py:1480\u001B[0m, in \u001B[0;36mis_extension_array_dtype\u001B[1;34m(arr_or_dtype)\u001B[0m\n\u001B[0;32m   1478\u001B[0m     \u001B[38;5;28;01mreturn\u001B[39;00m \u001B[38;5;28;01mFalse\u001B[39;00m\n\u001B[0;32m   1479\u001B[0m \u001B[38;5;28;01melse\u001B[39;00m:\n\u001B[1;32m-> 1480\u001B[0m     \u001B[38;5;28;01mreturn\u001B[39;00m \u001B[43mregistry\u001B[49m\u001B[38;5;241;43m.\u001B[39;49m\u001B[43mfind\u001B[49m\u001B[43m(\u001B[49m\u001B[43mdtype\u001B[49m\u001B[43m)\u001B[49m \u001B[38;5;129;01mis\u001B[39;00m \u001B[38;5;129;01mnot\u001B[39;00m \u001B[38;5;28;01mNone\u001B[39;00m\n",
      "File \u001B[1;32m~\\AppData\\Local\\Programs\\Python\\Python310\\lib\\site-packages\\pandas\\core\\dtypes\\base.py:492\u001B[0m, in \u001B[0;36mRegistry.find\u001B[1;34m(self, dtype)\u001B[0m\n\u001B[0;32m    490\u001B[0m \u001B[38;5;28;01mfor\u001B[39;00m dtype_type \u001B[38;5;129;01min\u001B[39;00m \u001B[38;5;28mself\u001B[39m\u001B[38;5;241m.\u001B[39mdtypes:\n\u001B[0;32m    491\u001B[0m     \u001B[38;5;28;01mtry\u001B[39;00m:\n\u001B[1;32m--> 492\u001B[0m         \u001B[38;5;28;01mreturn\u001B[39;00m \u001B[43mdtype_type\u001B[49m\u001B[38;5;241;43m.\u001B[39;49m\u001B[43mconstruct_from_string\u001B[49m\u001B[43m(\u001B[49m\u001B[43mdtype\u001B[49m\u001B[43m)\u001B[49m\n\u001B[0;32m    493\u001B[0m     \u001B[38;5;28;01mexcept\u001B[39;00m \u001B[38;5;167;01mTypeError\u001B[39;00m:\n\u001B[0;32m    494\u001B[0m         \u001B[38;5;28;01mpass\u001B[39;00m\n",
      "File \u001B[1;32m~\\AppData\\Local\\Programs\\Python\\Python310\\lib\\site-packages\\pandas\\core\\arrays\\string_.py:155\u001B[0m, in \u001B[0;36mStringDtype.construct_from_string\u001B[1;34m(cls, string)\u001B[0m\n\u001B[0;32m    153\u001B[0m     \u001B[38;5;28;01mreturn\u001B[39;00m \u001B[38;5;28mcls\u001B[39m(storage\u001B[38;5;241m=\u001B[39m\u001B[38;5;124m\"\u001B[39m\u001B[38;5;124mpython\u001B[39m\u001B[38;5;124m\"\u001B[39m)\n\u001B[0;32m    154\u001B[0m \u001B[38;5;28;01melif\u001B[39;00m string \u001B[38;5;241m==\u001B[39m \u001B[38;5;124m\"\u001B[39m\u001B[38;5;124mstring[pyarrow]\u001B[39m\u001B[38;5;124m\"\u001B[39m:\n\u001B[1;32m--> 155\u001B[0m     \u001B[38;5;28;01mreturn\u001B[39;00m \u001B[38;5;28;43mcls\u001B[39;49m\u001B[43m(\u001B[49m\u001B[43mstorage\u001B[49m\u001B[38;5;241;43m=\u001B[39;49m\u001B[38;5;124;43m\"\u001B[39;49m\u001B[38;5;124;43mpyarrow\u001B[39;49m\u001B[38;5;124;43m\"\u001B[39;49m\u001B[43m)\u001B[49m\n\u001B[0;32m    156\u001B[0m \u001B[38;5;28;01melse\u001B[39;00m:\n\u001B[0;32m    157\u001B[0m     \u001B[38;5;28;01mraise\u001B[39;00m \u001B[38;5;167;01mTypeError\u001B[39;00m(\u001B[38;5;124mf\u001B[39m\u001B[38;5;124m\"\u001B[39m\u001B[38;5;124mCannot construct a \u001B[39m\u001B[38;5;124m'\u001B[39m\u001B[38;5;132;01m{\u001B[39;00m\u001B[38;5;28mcls\u001B[39m\u001B[38;5;241m.\u001B[39m\u001B[38;5;18m__name__\u001B[39m\u001B[38;5;132;01m}\u001B[39;00m\u001B[38;5;124m'\u001B[39m\u001B[38;5;124m from \u001B[39m\u001B[38;5;124m'\u001B[39m\u001B[38;5;132;01m{\u001B[39;00mstring\u001B[38;5;132;01m}\u001B[39;00m\u001B[38;5;124m'\u001B[39m\u001B[38;5;124m\"\u001B[39m)\n",
      "File \u001B[1;32m~\\AppData\\Local\\Programs\\Python\\Python310\\lib\\site-packages\\pandas\\core\\arrays\\string_.py:108\u001B[0m, in \u001B[0;36mStringDtype.__init__\u001B[1;34m(self, storage)\u001B[0m\n\u001B[0;32m    104\u001B[0m     \u001B[38;5;28;01mraise\u001B[39;00m \u001B[38;5;167;01mValueError\u001B[39;00m(\n\u001B[0;32m    105\u001B[0m         \u001B[38;5;124mf\u001B[39m\u001B[38;5;124m\"\u001B[39m\u001B[38;5;124mStorage must be \u001B[39m\u001B[38;5;124m'\u001B[39m\u001B[38;5;124mpython\u001B[39m\u001B[38;5;124m'\u001B[39m\u001B[38;5;124m or \u001B[39m\u001B[38;5;124m'\u001B[39m\u001B[38;5;124mpyarrow\u001B[39m\u001B[38;5;124m'\u001B[39m\u001B[38;5;124m. Got \u001B[39m\u001B[38;5;132;01m{\u001B[39;00mstorage\u001B[38;5;132;01m}\u001B[39;00m\u001B[38;5;124m instead.\u001B[39m\u001B[38;5;124m\"\u001B[39m\n\u001B[0;32m    106\u001B[0m     )\n\u001B[0;32m    107\u001B[0m \u001B[38;5;28;01mif\u001B[39;00m storage \u001B[38;5;241m==\u001B[39m \u001B[38;5;124m\"\u001B[39m\u001B[38;5;124mpyarrow\u001B[39m\u001B[38;5;124m\"\u001B[39m \u001B[38;5;129;01mand\u001B[39;00m pa_version_under1p01:\n\u001B[1;32m--> 108\u001B[0m     \u001B[38;5;28;01mraise\u001B[39;00m \u001B[38;5;167;01mImportError\u001B[39;00m(\n\u001B[0;32m    109\u001B[0m         \u001B[38;5;124m\"\u001B[39m\u001B[38;5;124mpyarrow>=1.0.0 is required for PyArrow backed StringArray.\u001B[39m\u001B[38;5;124m\"\u001B[39m\n\u001B[0;32m    110\u001B[0m     )\n\u001B[0;32m    111\u001B[0m \u001B[38;5;28mself\u001B[39m\u001B[38;5;241m.\u001B[39mstorage \u001B[38;5;241m=\u001B[39m storage\n",
      "\u001B[1;31mImportError\u001B[0m: pyarrow>=1.0.0 is required for PyArrow backed StringArray."
     ]
    }
   ],
   "source": [
    "import altair as alt\n",
    "from vega_datasets import data\n",
    "import datapane as dp\n",
    "\n",
    "source = data.cars()\n",
    "\n",
    "plot1 = alt.Chart(source).mark_circle(size=60).encode(\n",
    "  x='Horsepower',\n",
    "  y='Miles_per_Gallon',\n",
    "  color='Origin',\n",
    "  tooltip=['Name', 'Origin', 'Horsepower', 'Miles_per_Gallon']\n",
    ").interactive()\n",
    "\n",
    "dp.Report(\n",
    "    dp.Text(\"## Hello world!\"),\n",
    "    dp.Plot(plot1),\n",
    "    dp.DataTable(source)\n",
    ").save(path=\"Hello_world.html\")"
   ],
   "metadata": {
    "collapsed": false,
    "pycharm": {
     "name": "#%%\n"
    }
   }
  }
 ],
 "metadata": {
  "kernelspec": {
   "display_name": "Python 3",
   "language": "python",
   "name": "python3"
  },
  "language_info": {
   "codemirror_mode": {
    "name": "ipython",
    "version": 2
   },
   "file_extension": ".py",
   "mimetype": "text/x-python",
   "name": "python",
   "nbconvert_exporter": "python",
   "pygments_lexer": "ipython2",
   "version": "2.7.6"
  }
 },
 "nbformat": 4,
 "nbformat_minor": 0
}