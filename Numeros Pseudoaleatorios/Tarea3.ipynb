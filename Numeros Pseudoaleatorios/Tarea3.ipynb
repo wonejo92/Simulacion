{
 "cells": [
  {
   "cell_type": "markdown",
   "source": [
    "Ejercicio en clases: Calcular, graficar y obtener el valor de Chi Cuadrado para los siguientes generadores con las siguientes semillas:\n",
    "- Cuadrados medios: Xo=74731897457, D=7\n",
    "- Congruencia lineal: a=74731897457, b=37747318974, Xo=7, M=19\n",
    "- Tauswoth q=7, r=3, l=5\n",
    "- Random de Python semilla (11052022)"
   ],
   "metadata": {
    "collapsed": false,
    "pycharm": {
     "name": "#%% md\n"
    }
   }
  },
  {
   "cell_type": "markdown",
   "source": [
    "# Librerias Necesarias"
   ],
   "metadata": {
    "collapsed": false,
    "pycharm": {
     "name": "#%% md\n"
    }
   }
  },
  {
   "cell_type": "code",
   "execution_count": 11,
   "outputs": [
    {
     "name": "stdout",
     "output_type": "stream",
     "text": [
      "Librerias Importadas\n"
     ]
    }
   ],
   "source": [
    "# Importanmos las librerias\n",
    "import random\n",
    "import matplotlib.pyplot as plt\n",
    "import numpy as np\n",
    "from itertools import zip_longest\n",
    "print('Librerias Importadas')"
   ],
   "metadata": {
    "collapsed": false,
    "pycharm": {
     "name": "#%%\n"
    }
   }
  },
  {
   "cell_type": "code",
   "execution_count": 70,
   "outputs": [],
   "source": [
    "\n",
    "\n",
    "def CuadradosMe(semilla,D,iteraciones):\n",
    "    xo = semilla\n",
    "    digitos = D\n",
    "    iteraciones = iteraciones\n",
    "    listrn=[]\n",
    "    xn = xo\n",
    "    #print(\"It. \\t Xn \\t Ui \\t Rn\")\n",
    "    for i in range(iteraciones):\n",
    "        xnn = xn**2\n",
    "        txnn = str(xnn).zfill(8)\n",
    "        tam = len(txnn)\n",
    "        ui = int(txnn[int(tam/2-digitos/2):int(tam/2+digitos/2)])\n",
    "        rn = ui / (int('9'*digitos)+1)\n",
    "        listrn.append(rn)\n",
    "        #print(str(i) + \"\\t\" + str(xn) + \"\\t\"+ str(ui)+\"\\t\"+str(rn))\n",
    "        xn = ui\n",
    "    return listrn\n",
    "\n",
    "\n",
    "def CongruenciaLin(semilla,a,b,m,iteraciones):\n",
    "    xo = semilla\n",
    "    a = a\n",
    "    b = b\n",
    "    m = m\n",
    "    listUi=[]\n",
    "    iteraciones = iteraciones\n",
    "    xn = xo\n",
    "    #print(\"It. \\t Xn \\t Ui\")\n",
    "    for i in range(iteraciones):\n",
    "        xnn = (a*xn+b) % m\n",
    "        ui = xnn/m\n",
    "        listUi.append(ui)\n",
    "        #print(str(i) + \"\\t\"+ str(xnn)+\"\\t\"+str(ui))\n",
    "        xn = xnn\n",
    "    return listUi\n",
    "\n",
    "\n",
    "def Taus(r,q,Base_Binaria):\n",
    "    R = r\n",
    "    Q = q\n",
    "    Binario = Base_Binaria\n",
    "    listUi=[]\n",
    "\n",
    "    def operacionXOR(a,b):\n",
    "      ab = 1\n",
    "      if a  == b:\n",
    "        ab = 0\n",
    "      return ab\n",
    "\n",
    "    bits = []\n",
    "    b = (2 ** Q) - 1\n",
    "\n",
    "    for i in range(0,b):\n",
    "      bits.append(0)\n",
    "\n",
    "    #print(bits)\n",
    "\n",
    "    for i in range(0, Q):\n",
    "      bits[i] = 1\n",
    "      bits.append(1)\n",
    "\n",
    "    #print(bits)\n",
    "\n",
    "    a = Q + 1\n",
    "    for i in range(a,len(bits)):\n",
    "      i1 = i - R\n",
    "      i2 = i - Q\n",
    "      bits[i] = operacionXOR(bits[i1],bits[i2])\n",
    "\n",
    "    #print(bits)\n",
    "\n",
    "    def binarioADecimal(binario):\n",
    "      a = 0\n",
    "      p = (Binario - 1)\n",
    "      for i in range(0,len(binario)):\n",
    "        if binario[i] == 1:\n",
    "          a += 2**(p-i)\n",
    "      return a\n",
    "    test_list = bits\n",
    "\n",
    "    def elementos(n, iterable, padvalue='1'):\n",
    "        return zip_longest(*[iter(iterable)]*n, fillvalue=padvalue)\n",
    "\n",
    "    #print(\"\\n\",\"It.\", \"\\t\", \"Base 2\", \"\\t\",\"Base 10\",\"\\t\",\"Ui\",\"\\n\")\n",
    "    d = 0\n",
    "    for output in elementos(Binario, test_list):\n",
    "        lst_new = [str(a) for a in output]\n",
    "        listUi.append(binarioADecimal(output) / (2 ** Binario))\n",
    "        #print(d,\"\\t\",\" \".join(lst_new), \"\\t\", binarioADecimal(output), \"\\t\", \"\\t\", binarioADecimal(output) / (2 ** Binario))\n",
    "        d +=1\n",
    "    return listUi\n",
    "\n",
    "def random_python(semilla,iteraciones):\n",
    "  numeros = []\n",
    "  random.seed(semilla)\n",
    "  [numeros.append(random.random())for i in range(iteraciones)]\n",
    "  return numeros\n",
    "\n",
    "\n",
    "#CuadradosMe(74731897457,7,10)\n",
    "#CongruenciaLin(4370,74731897457,37747318974,19,10)\n",
    "#Taus(3,7,4)\n",
    "#random_python(11052022,10)"
   ],
   "metadata": {
    "collapsed": false,
    "pycharm": {
     "name": "#%%\n"
    }
   }
  },
  {
   "cell_type": "markdown",
   "source": [
    "# CHI-CUADRADO"
   ],
   "metadata": {
    "collapsed": false,
    "pycharm": {
     "name": "#%% md\n"
    }
   }
  },
  {
   "cell_type": "code",
   "execution_count": 59,
   "outputs": [],
   "source": [
    "\n",
    "#Defino una funcion para realizar un conteo de los numeros que caen dentro de cada intervalo\n",
    "def calcular_chi(numeros ):\n",
    "  tablas = {}\n",
    "  for i in np.arange(0.1, 1.1, 0.1): # aqui separo en intervalos de 0.1\n",
    "    for j in numeros:\n",
    "      if j > i-0.1 and j <= i: # Compruebo si el valor esta dentro del intervalor\n",
    "        tablas[round(i-0.1,1)] = tablas[round(i-0.1,1)]+1 if round(i-0.1,1) in tablas else 1\n",
    "  return tablas\n",
    "#defino una funcion para aplicar la formula y obtener la desviacion estandar de cada intervalo\n",
    "def sumatoria_chi(tabla, E):\n",
    "  return sum([(valor-E)**2/E for valor in tabla.values()])\n",
    "#Defino una funcion para graficar en un cuadro de barras los valores de cada intervalo\n",
    "def graficar(tabla,titulo):\n",
    "  plt.bar(range(len(tabla)), list(tabla.values()), tick_label=list(tabla.keys()),)\n",
    "  plt.title(titulo)\n",
    "  plt.show()\n",
    "# Listo eso es todo\n",
    "\n"
   ],
   "metadata": {
    "collapsed": false,
    "pycharm": {
     "name": "#%%\n"
    }
   }
  },
  {
   "cell_type": "code",
   "execution_count": 72,
   "outputs": [
    {
     "name": "stdout",
     "output_type": "stream",
     "text": [
      "Valor de Chi Cuadrado de Cuadrados medios\n",
      "31.28571428571429\n"
     ]
    },
    {
     "data": {
      "text/plain": "<Figure size 432x288 with 1 Axes>",
      "image/png": "[encoded data removed]"
     },
     "metadata": {
      "needs_background": "light"
     },
     "output_type": "display_data"
    },
    {
     "name": "stdout",
     "output_type": "stream",
     "text": [
      "Valor de Chi Cuadrado de Congruencia Lineal\n",
      "20.500000000000004\n"
     ]
    },
    {
     "data": {
      "text/plain": "<Figure size 432x288 with 1 Axes>",
      "image/png": "[encoded data removed]"
     },
     "metadata": {
      "needs_background": "light"
     },
     "output_type": "display_data"
    },
    {
     "name": "stdout",
     "output_type": "stream",
     "text": [
      "Valor de Chi Cuadrado de Tausworthe\n",
      "48.3\n"
     ]
    },
    {
     "data": {
      "text/plain": "<Figure size 432x288 with 1 Axes>",
      "image/png": "[encoded data removed]"
     },
     "metadata": {
      "needs_background": "light"
     },
     "output_type": "display_data"
    },
    {
     "name": "stdout",
     "output_type": "stream",
     "text": [
      "Valor de Chi Cuadrado de Random Python\n",
      "31.285714285714285\n"
     ]
    },
    {
     "data": {
      "text/plain": "<Figure size 432x288 with 1 Axes>",
      "image/png": "[encoded data removed]"
     },
     "metadata": {
      "needs_background": "light"
     },
     "output_type": "display_data"
    }
   ],
   "source": [
    "#Cuadrados medios\n",
    "numerosCM=CuadradosMe(74731897457,7,10)\n",
    "tablasCM=calcular_chi(numerosCM)\n",
    "print('Valor de Chi Cuadrado de Cuadrados medios')\n",
    "print(sumatoria_chi(tablasCM, len(tablasCM)))\n",
    "graficar(tablasCM,'Cuadrados Medios')\n",
    "\n",
    "#Congruencia Lineal\n",
    "numerosCL=CongruenciaLin(4370,74731897457,37747318974,19,10)\n",
    "tablasCL=calcular_chi(numerosCL)\n",
    "print('Valor de Chi Cuadrado de Congruencia Lineal')\n",
    "print(sumatoria_chi(tablasCL, len(tablasCL)))\n",
    "graficar(tablasCL,'Congruencia Lineal')\n",
    "\n",
    "#Tausworthe\n",
    "numerosTa=Taus(3,7,4)\n",
    "tablasTa=calcular_chi(numerosTa)\n",
    "print('Valor de Chi Cuadrado de Tausworthe')\n",
    "print(sumatoria_chi(tablasTa, len(tablasTa)))\n",
    "graficar(tablasTa,'Tausworthe')\n",
    "\n",
    "#Random Python\n",
    "numerosRP=random_python(11052022,10)\n",
    "tablasRP=calcular_chi(numerosRP)\n",
    "print('Valor de Chi Cuadrado de Random Python')\n",
    "print(sumatoria_chi(tablasRP, len(tablasRP)))\n",
    "graficar(tablasRP,'Random Python')"
   ],
   "metadata": {
    "collapsed": false,
    "pycharm": {
     "name": "#%%\n"
    }
   }
  }
 ],
 "metadata": {
  "kernelspec": {
   "display_name": "Python 3",
   "language": "python",
   "name": "python3"
  },
  "language_info": {
   "codemirror_mode": {
    "name": "ipython",
    "version": 2
   },
   "file_extension": ".py",
   "mimetype": "text/x-python",
   "name": "python",
   "nbconvert_exporter": "python",
   "pygments_lexer": "ipython2",
   "version": "2.7.6"
  }
 },
 "nbformat": 4,
 "nbformat_minor": 0
}